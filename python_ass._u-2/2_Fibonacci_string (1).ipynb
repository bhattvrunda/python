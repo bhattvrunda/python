{
 "cells": [
  {
   "cell_type": "code",
   "execution_count": 1,
   "id": "17fd7cef-81fd-4c9d-a32b-4c9ac7c78aa6",
   "metadata": {},
   "outputs": [
    {
     "name": "stdout",
     "output_type": "stream",
     "text": [
      "'A'\n",
      "'B'\n",
      "'BA'\n",
      "'BAB'\n",
      "'BABBA'\n"
     ]
    }
   ],
   "source": [
    "#print fibbonaci string E.g:('A','B','BA','BAB','BABBA')\n",
    "# Function to generate Fibonacci strings\n",
    "def fibonacci_strings(n):\n",
    "    # Start with the first two Fibonacci strings\n",
    "    fib_strings = ['A', 'B']\n",
    "    \n",
    "    # Generate Fibonacci strings until we reach the desired count\n",
    "    for i in range(2, n):\n",
    "        next_string = fib_strings[i - 1] + fib_strings[i - 2]  # Combine the last two strings\n",
    "        fib_strings.append(next_string)  # Add the new string to the list\n",
    "\n",
    "    return fib_strings\n",
    "\n",
    "# Number of Fibonacci strings to generate\n",
    "n = 5\n",
    "fib_strings = fibonacci_strings(n)\n",
    "\n",
    "# Print the Fibonacci strings\n",
    "for s in fib_strings:\n",
    "    print(f\"'{s}'\")"
   ]
  },
  {
   "cell_type": "code",
   "execution_count": null,
   "id": "b4c8a5fe-a736-4429-b372-0ee9325740f3",
   "metadata": {},
   "outputs": [],
   "source": []
  },
  {
   "cell_type": "code",
   "execution_count": null,
   "id": "c1ec2564-bad2-4d9c-8a77-46b124e62256",
   "metadata": {},
   "outputs": [],
   "source": []
  }
 ],
 "metadata": {
  "kernelspec": {
   "display_name": "Python 3 (ipykernel)",
   "language": "python",
   "name": "python3"
  },
  "language_info": {
   "codemirror_mode": {
    "name": "ipython",
    "version": 3
   },
   "file_extension": ".py",
   "mimetype": "text/x-python",
   "name": "python",
   "nbconvert_exporter": "python",
   "pygments_lexer": "ipython3",
   "version": "3.9.6"
  }
 },
 "nbformat": 4,
 "nbformat_minor": 5
}
