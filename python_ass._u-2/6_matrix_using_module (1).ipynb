{
 "cells": [
  {
   "cell_type": "code",
   "execution_count": 1,
   "id": "0fd5cb30-20cd-41d7-9379-7ba1886cc361",
   "metadata": {},
   "outputs": [
    {
     "name": "stdout",
     "output_type": "stream",
     "text": [
      "Matrix 1:\n",
      "[1, 2]\n",
      "[3, 4]\n",
      "\n",
      "Matrix 2:\n",
      "[5, 6]\n",
      "[7, 8]\n",
      "\n",
      "Addition of Matrix 1 and Matrix 2:\n",
      "[6, 8]\n",
      "[10, 12]\n",
      "\n",
      "Multiplication of Matrix 1 and Matrix 2:\n",
      "[19, 22]\n",
      "[43, 50]\n"
     ]
    }
   ],
   "source": [
    "def initialize_matrix(data):\n",
    "    \"\"\"Initialize and return a matrix.\"\"\"\n",
    "    return data\n",
    "\n",
    "def print_matrix(matrix):\n",
    "    \"\"\"Print the matrix in a readable format.\"\"\"\n",
    "    for row in matrix:\n",
    "        print(row)\n",
    "\n",
    "def add_matrices(matrix1, matrix2):\n",
    "    \"\"\"Add two matrices.\"\"\"\n",
    "    result = []\n",
    "    for i in range(len(matrix1)):\n",
    "        row = []\n",
    "        for j in range(len(matrix1[0])):\n",
    "            row.append(matrix1[i][j] + matrix2[i][j])\n",
    "        result.append(row)\n",
    "    return result\n",
    "\n",
    "def multiply_matrices(matrix1, matrix2):\n",
    "    \"\"\"Multiply two matrices.\"\"\"\n",
    "    result = []\n",
    "    for i in range(len(matrix1)):\n",
    "        row = []\n",
    "        for j in range(len(matrix2[0])):\n",
    "            sum = 0\n",
    "            for k in range(len(matrix2)):\n",
    "                sum += matrix1[i][k] * matrix2[k][j]\n",
    "            row.append(sum)\n",
    "        result.append(row)\n",
    "    return result\n",
    "\n",
    "# Example usage\n",
    "if __name__ == \"__main__\":\n",
    "    # Initialize two matrices\n",
    "    matrix1 = initialize_matrix([[1, 2], [3, 4]])\n",
    "    matrix2 = initialize_matrix([[5, 6], [7, 8]])\n",
    "\n",
    "    # Print matrices\n",
    "    print(\"Matrix 1:\")\n",
    "    print_matrix(matrix1)\n",
    "\n",
    "    print(\"\\nMatrix 2:\")\n",
    "    print_matrix(matrix2)\n",
    "\n",
    "    # Add matrices\n",
    "    print(\"\\nAddition of Matrix 1 and Matrix 2:\")\n",
    "    result_add = add_matrices(matrix1, matrix2)\n",
    "    print_matrix(result_add)\n",
    "\n",
    "    # Multiply matrices\n",
    "    print(\"\\nMultiplication of Matrix 1 and Matrix 2:\")\n",
    "    result_multiply = multiply_matrices(matrix1, matrix2)\n",
    "    print_matrix(result_multiply)\n"
   ]
  },
  {
   "cell_type": "code",
   "execution_count": null,
   "id": "4976cf44-046e-41c8-b0cc-912ee05231dd",
   "metadata": {},
   "outputs": [],
   "source": []
  }
 ],
 "metadata": {
  "kernelspec": {
   "display_name": "Python 3 (ipykernel)",
   "language": "python",
   "name": "python3"
  },
  "language_info": {
   "codemirror_mode": {
    "name": "ipython",
    "version": 3
   },
   "file_extension": ".py",
   "mimetype": "text/x-python",
   "name": "python",
   "nbconvert_exporter": "python",
   "pygments_lexer": "ipython3",
   "version": "3.9.6"
  }
 },
 "nbformat": 4,
 "nbformat_minor": 5
}
