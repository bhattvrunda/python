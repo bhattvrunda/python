{
 "cells": [
  {
   "cell_type": "code",
   "execution_count": 2,
   "id": "eca52f44-c214-480b-97d6-a080418623c4",
   "metadata": {},
   "outputs": [
    {
     "name": "stdout",
     "output_type": "stream",
     "text": [
      "1000 is not a perfect number.\n"
     ]
    }
   ],
   "source": [
    "def is_perfect_number(n):\n",
    "    # Calculate the sum of proper divisors\n",
    "    proper_divisors = [i for i in range(1, n) if n % i == 0]\n",
    "    sum_of_divisors = sum(proper_divisors)\n",
    "\n",
    "    # Check if the sum of proper divisors is equal to the number\n",
    "    if sum_of_divisors == n:\n",
    "        return proper_divisors\n",
    "    else:\n",
    "        return None\n",
    "\n",
    "def main():\n",
    "    number = 28# You can change this to any number you want to check\n",
    "    divisors = is_perfect_number(number)\n",
    "\n",
    "    if divisors is not None:\n",
    "        divisors_string = '+'.join(map(str, divisors))\n",
    "        print(f\"{number} = {divisors_string}\")\n",
    "    else:\n",
    "        print(f\"{number} is not a perfect number.\")\n",
    "\n",
    "if __name__ == \"__main__\":\n",
    "    main()\n"
   ]
  },
  {
   "cell_type": "code",
   "execution_count": 8,
   "id": "958983e1-c27a-474b-a9b4-d9b8cd560d3d",
   "metadata": {},
   "outputs": [
    {
     "name": "stdin",
     "output_type": "stream",
     "text": [
      "Enter a positive integer:  100\n"
     ]
    },
    {
     "name": "stdout",
     "output_type": "stream",
     "text": [
      "100 is not a perfect number.\n"
     ]
    }
   ],
   "source": [
    "def is_perfect_number(n):\n",
    "    # Calculate the sum of proper divisors\n",
    "    proper_divisors = [i for i in range(1, n) if n % i == 0]\n",
    "    sum_of_divisors = sum(proper_divisors)\n",
    "\n",
    "    # Check if the sum of proper divisors is equal to the number\n",
    "    if sum_of_divisors == n:\n",
    "        return proper_divisors\n",
    "    else:\n",
    "        return None\n",
    "\n",
    "def main():\n",
    "    try:\n",
    "        number = int(input(\"Enter a positive integer: \"))\n",
    "        if number <= 0:\n",
    "            print(\"Please enter a positive integer.\")\n",
    "            return\n",
    "\n",
    "        divisors = is_perfect_number(number)\n",
    "\n",
    "        if divisors is not None:\n",
    "            divisors_string = '+'.join(map(str, divisors))\n",
    "            \n",
    "            print(f\"{number} = {divisors_string}\")\n",
    "        else:\n",
    "            print(f\"{number} is not a perfect number.\")\n",
    "    except ValueError:\n",
    "        print(\"Invalid input. Please enter a valid positive integer.\")\n",
    "\n",
    "if __name__ == \"__main__\":\n",
    "    main()"
   ]
  },
  {
   "cell_type": "code",
   "execution_count": null,
   "id": "74059824-b77f-4bc5-af93-e28cac34a405",
   "metadata": {},
   "outputs": [],
   "source": []
  }
 ],
 "metadata": {
  "kernelspec": {
   "display_name": "Python 3 (ipykernel)",
   "language": "python",
   "name": "python3"
  },
  "language_info": {
   "codemirror_mode": {
    "name": "ipython",
    "version": 3
   },
   "file_extension": ".py",
   "mimetype": "text/x-python",
   "name": "python",
   "nbconvert_exporter": "python",
   "pygments_lexer": "ipython3",
   "version": "3.9.6"
  }
 },
 "nbformat": 4,
 "nbformat_minor": 5
}
