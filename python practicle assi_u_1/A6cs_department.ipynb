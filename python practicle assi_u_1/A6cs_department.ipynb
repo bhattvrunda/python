{
 "cells": [
  {
   "cell_type": "code",
   "execution_count": null,
   "id": "0b81b23f-d973-445b-94e9-494abdf5a444",
   "metadata": {},
   "outputs": [],
   "source": [
    "#Assignment 6-Find the student from CS department where the roll number may be in capital or small case letter.\n",
    "rno=input(type(\"Enter number:\")).upper()\n",
    "if rno[0] =='c' or rno[0]=='C':\n",
    "    if rno[1]=='s' or rno[1] =='S':\n",
    "        print(rno)\n",
    "else:\n",
    "    print(\"write a proper sequence in rollno start with 'cs'\")"
   ]
  }
 ],
 "metadata": {
  "kernelspec": {
   "display_name": "Python 3 (ipykernel)",
   "language": "python",
   "name": "python3"
  },
  "language_info": {
   "codemirror_mode": {
    "name": "ipython",
    "version": 3
   },
   "file_extension": ".py",
   "mimetype": "text/x-python",
   "name": "python",
   "nbconvert_exporter": "python",
   "pygments_lexer": "ipython3",
   "version": "3.11.4"
  }
 },
 "nbformat": 4,
 "nbformat_minor": 5
}
