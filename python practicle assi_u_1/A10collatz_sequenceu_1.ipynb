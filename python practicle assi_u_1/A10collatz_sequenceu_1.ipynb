{
 "cells": [
  {
   "cell_type": "code",
   "execution_count": null,
   "id": "7536911c-a128-4e07-aadc-0f4811a191e3",
   "metadata": {},
   "outputs": [],
   "source": [
    "#Assignment 10-Collatz sequence\n",
    "#1.For even numbers,divided by 2;\n",
    "#2.For odd numbers,multiply by 3 and add 1.\n",
    "#3.Repeate above steps,untill it becomes 1.\n",
    "#input - 7\n",
    "#Output-7,22,11,34,17,52,26,13,40,20,10,5,16,8,4,2,1.\n",
    "n=int(input(\"Enter Number:\"))\n",
    "while n!=1:\n",
    "    if n%2==0:#even number\n",
    "        n=int(n/2)\n",
    "        print(n)\n",
    "    else:\n",
    "        n=(n*3)+1#odd number\n",
    "        print(n)"
   ]
  }
 ],
 "metadata": {
  "kernelspec": {
   "display_name": "Python 3 (ipykernel)",
   "language": "python",
   "name": "python3"
  },
  "language_info": {
   "codemirror_mode": {
    "name": "ipython",
    "version": 3
   },
   "file_extension": ".py",
   "mimetype": "text/x-python",
   "name": "python",
   "nbconvert_exporter": "python",
   "pygments_lexer": "ipython3",
   "version": "3.11.4"
  }
 },
 "nbformat": 4,
 "nbformat_minor": 5
}
