{
 "cells": [
  {
   "cell_type": "code",
   "execution_count": null,
   "id": "49e6c103-5166-4564-a292-bcecce0ba5cf",
   "metadata": {},
   "outputs": [],
   "source": [
    "#Assignment 4-word shuffle using string manipulation.\n",
    "print(\"Input String\")\n",
    "in_str=\"This is python Slicing\"\n",
    "print(in_str)\n",
    "print(\"The shuffled word\")\n",
    "print(in_str[0:4],in_str[5:7],in_str[8:14],in_str[15:22])\n",
    "print(in_str[:3],in_str[3:7],in_str[7:13],in_str[17:22])"
   ]
  }
 ],
 "metadata": {
  "kernelspec": {
   "display_name": "Python 3 (ipykernel)",
   "language": "python",
   "name": "python3"
  },
  "language_info": {
   "codemirror_mode": {
    "name": "ipython",
    "version": 3
   },
   "file_extension": ".py",
   "mimetype": "text/x-python",
   "name": "python",
   "nbconvert_exporter": "python",
   "pygments_lexer": "ipython3",
   "version": "3.11.4"
  }
 },
 "nbformat": 4,
 "nbformat_minor": 5
}
