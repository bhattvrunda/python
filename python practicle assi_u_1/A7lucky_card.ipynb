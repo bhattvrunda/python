{
 "cells": [
  {
   "cell_type": "code",
   "execution_count": null,
   "id": "0485cb52-828e-4fe6-9905-7c00bc5bfa82",
   "metadata": {},
   "outputs": [],
   "source": [
    "#Assignment 7-To read card as input and output if card is lucky or not.\n",
    "card=input(\"enter number:\")\n",
    "if (card == \"King\" or card == \"Queen\" or card==\"Joker\" or card==\"Akka\"):\n",
    "    print(\"The number is Lucky\")\n",
    "else:\n",
    "    print(\"The number is not Lucky\")\n",
    "        "
   ]
  }
 ],
 "metadata": {
  "kernelspec": {
   "display_name": "Python 3 (ipykernel)",
   "language": "python",
   "name": "python3"
  },
  "language_info": {
   "codemirror_mode": {
    "name": "ipython",
    "version": 3
   },
   "file_extension": ".py",
   "mimetype": "text/x-python",
   "name": "python",
   "nbconvert_exporter": "python",
   "pygments_lexer": "ipython3",
   "version": "3.11.4"
  }
 },
 "nbformat": 4,
 "nbformat_minor": 5
}
