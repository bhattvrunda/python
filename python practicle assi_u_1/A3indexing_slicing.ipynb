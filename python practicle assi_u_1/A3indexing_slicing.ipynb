{
 "cells": [
  {
   "cell_type": "code",
   "execution_count": null,
   "id": "47ad493e-6102-47ec-8f39-d255a79c6b0f",
   "metadata": {},
   "outputs": [],
   "source": [
    "#assignment 3=extracting field of a roll number using string indexing and slicing.\n",
    "number=[1,2,3,4,5,6,7,8]\n",
    "#using string indexing\n",
    "n1=number[0:2]\n",
    "n2=number[2:6]\n",
    "n3=number[4:7:3]\n",
    "print(n1)\n",
    "print(n2)\n",
    "print(n3)\n",
    "#using string slicing\n",
    "number2=[1,2,3,4,5,6,7,8,9]\n",
    "s1=number2[0:5]\n",
    "print(s1)\n",
    "s2=number2[:6]\n",
    "print(s2)\n",
    "s3=number2[2:5]\n",
    "print(s3)"
   ]
  }
 ],
 "metadata": {
  "kernelspec": {
   "display_name": "Python 3 (ipykernel)",
   "language": "python",
   "name": "python3"
  },
  "language_info": {
   "codemirror_mode": {
    "name": "ipython",
    "version": 3
   },
   "file_extension": ".py",
   "mimetype": "text/x-python",
   "name": "python",
   "nbconvert_exporter": "python",
   "pygments_lexer": "ipython3",
   "version": "3.11.4"
  }
 },
 "nbformat": 4,
 "nbformat_minor": 5
}
