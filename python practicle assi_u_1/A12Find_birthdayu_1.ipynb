{
 "cells": [
  {
   "cell_type": "code",
   "execution_count": 1,
   "id": "d30e85e1-8742-4449-8cc3-24f8349bff97",
   "metadata": {},
   "outputs": [
    {
     "name": "stdin",
     "output_type": "stream",
     "text": [
      "Enter dob in DD/MM/YY format: 30072004\n"
     ]
    }
   ],
   "source": [
    "#Assignment 12-Find birthdays in a month using dictionary birthday in DD/MM/YY format.\n",
    "birthdays={\n",
    "    1:\"January\",\n",
    "    2:\"February\",\n",
    "    2:\"March\",\n",
    "    4:\"April\",\n",
    "    5:\"May\",\n",
    "    6:\"June\",\n",
    "    7:\"July\",\n",
    "    8:\"August\",\n",
    "    9:\"September\",\n",
    "    10:\"Octomber\",\n",
    "    11:\"November\",\n",
    "    12:\"December\"\n",
    "}\n",
    "dob=input(\"Enter dob in DD/MM/YY format:\")\n",
    "if len(dob)==6:\n",
    "    if int(dob[2:4])in birthdays.keys():\n",
    "        print(birthdays[int(dob[2:4])])\n",
    "    else:\n",
    "        print(\"Invalid\")\n",
    "        \n",
    "\n",
    "#create dictionary to store birthday\n",
    "# birthdays={\n",
    "#     1:[\"15/01/1990\",\"22/01/1985\"],\n",
    "#     3:[\"23/03/1995\",\"30/03/1990\"],\n",
    "# }\n",
    "# #Add entries for other month as needed.\n",
    "# def add_birthday(month,date):\n",
    "# #Add birthday to the specified month\n",
    "#  if month in birthdays:\n",
    "#     birthdays[month].append(date)\n",
    "#  else:\n",
    "#     birthdays[month]=[date]\n",
    "# def get_birthdays(month):\n",
    "# #Retrieve list of birthday for specified month\n",
    "#     return birthdays.get(month,[])\n",
    "# #example usage\n",
    "# add_birthday(4,\"10/04/1987\")\n",
    "# #add birthday to April\n",
    "# print(\"birthday in march:\",get_birthdays(3))\n",
    "# #add birthday in march\n",
    "# print(\"birthday in april:\",get_birthdays(4))\n",
    "# #get birthday in april"
   ]
  },
  {
   "cell_type": "code",
   "execution_count": null,
   "id": "dceae69f-56bc-4577-9482-af068e030cac",
   "metadata": {},
   "outputs": [],
   "source": []
  }
 ],
 "metadata": {
  "kernelspec": {
   "display_name": "Python 3 (ipykernel)",
   "language": "python",
   "name": "python3"
  },
  "language_info": {
   "codemirror_mode": {
    "name": "ipython",
    "version": 3
   },
   "file_extension": ".py",
   "mimetype": "text/x-python",
   "name": "python",
   "nbconvert_exporter": "python",
   "pygments_lexer": "ipython3",
   "version": "3.11.4"
  }
 },
 "nbformat": 4,
 "nbformat_minor": 5
}
