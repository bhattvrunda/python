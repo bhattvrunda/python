{
 "cells": [
  {
   "cell_type": "code",
   "execution_count": 1,
   "id": "218221b3-7750-4462-871b-398b3c37636a",
   "metadata": {},
   "outputs": [
    {
     "name": "stdin",
     "output_type": "stream",
     "text": [
      "Enter any number: 9\n"
     ]
    },
    {
     "name": "stdout",
     "output_type": "stream",
     "text": [
      "01123581321"
     ]
    }
   ],
   "source": [
    "#Assignment 9=print fibonacci series.\n",
    "num=int(input(\"Enter any number:\"))\n",
    "n1,n2=0,1\n",
    "sum=0\n",
    "if num<=0:\n",
    "    print(f\"Please enter number which is greater than 0\")\n",
    "else:\n",
    "    for i in range(0,num):\n",
    "        print(sum,end=\"\")\n",
    "        n1=n2\n",
    "        n2=sum\n",
    "        sum=n1+n2"
   ]
  },
  {
   "cell_type": "code",
   "execution_count": null,
   "id": "00131f75-cae8-41f0-ba69-657384483f81",
   "metadata": {},
   "outputs": [],
   "source": []
  }
 ],
 "metadata": {
  "kernelspec": {
   "display_name": "Python 3 (ipykernel)",
   "language": "python",
   "name": "python3"
  },
  "language_info": {
   "codemirror_mode": {
    "name": "ipython",
    "version": 3
   },
   "file_extension": ".py",
   "mimetype": "text/x-python",
   "name": "python",
   "nbconvert_exporter": "python",
   "pygments_lexer": "ipython3",
   "version": "3.11.4"
  }
 },
 "nbformat": 4,
 "nbformat_minor": 5
}
