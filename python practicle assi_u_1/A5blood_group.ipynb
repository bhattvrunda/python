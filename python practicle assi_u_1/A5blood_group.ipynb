{
 "cells": [
  {
   "cell_type": "code",
   "execution_count": null,
   "id": "48a058ef-b0e8-4557-b808-35bbbedeb71f",
   "metadata": {},
   "outputs": [],
   "source": [
    "#Assignment 5-Write a program to find out if the two blood group are match.\n",
    "#The split() method is used to divide a string into an ordered list of substrings.\n",
    "bg1=(input(\"Enter your blood group:\").split())\n",
    "bg2=(input(\"Enter your blood group:\").split())\n",
    "if bg1==bg2:\n",
    "    print(\"Two blood groups are same:\")\n",
    "else:\n",
    "    print(\"Two blood groups are not same:\")"
   ]
  }
 ],
 "metadata": {
  "kernelspec": {
   "display_name": "Python 3 (ipykernel)",
   "language": "python",
   "name": "python3"
  },
  "language_info": {
   "codemirror_mode": {
    "name": "ipython",
    "version": 3
   },
   "file_extension": ".py",
   "mimetype": "text/x-python",
   "name": "python",
   "nbconvert_exporter": "python",
   "pygments_lexer": "ipython3",
   "version": "3.11.4"
  }
 },
 "nbformat": 4,
 "nbformat_minor": 5
}
