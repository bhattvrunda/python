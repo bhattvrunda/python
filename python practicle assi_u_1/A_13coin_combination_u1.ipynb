{
 "cells": [
  {
   "cell_type": "code",
   "execution_count": 2,
   "id": "95276f7a-d454-4604-8624-46b53fb7e741",
   "metadata": {},
   "outputs": [
    {
     "name": "stdout",
     "output_type": "stream",
     "text": [
      "yes, you can make the exact change for100using given coins\n",
      "Number of way to make100:541\n"
     ]
    }
   ],
   "source": [
    "#Assignment 13-Exact change:Given a price to identify if you have exact change summing up to that price?(count all combinations of coin to make a given value sum)\n",
    "coins=[1,2,5]\n",
    "price=100\n",
    "dp=[0]*(price+1)\n",
    "dp[0]=1\n",
    "for coin in coins:\n",
    "    for i in range(coin,price+1):\n",
    "        dp[i]+=dp[i-coin]\n",
    "if dp[price]>0:\n",
    "    print(f\"yes, you can make the exact change for{price}using given coins\")\n",
    "    print(f\"Number of way to make{price}:{dp[price]}\")\n",
    "else:\n",
    "    print(f\"No you cannot make exact change for{price}using given coins\")"
   ]
  },
  {
   "cell_type": "code",
   "execution_count": null,
   "id": "900c8676-39fa-4685-b307-7f32f668c09f",
   "metadata": {},
   "outputs": [],
   "source": []
  }
 ],
 "metadata": {
  "kernelspec": {
   "display_name": "Python 3 (ipykernel)",
   "language": "python",
   "name": "python3"
  },
  "language_info": {
   "codemirror_mode": {
    "name": "ipython",
    "version": 3
   },
   "file_extension": ".py",
   "mimetype": "text/x-python",
   "name": "python",
   "nbconvert_exporter": "python",
   "pygments_lexer": "ipython3",
   "version": "3.11.4"
  }
 },
 "nbformat": 4,
 "nbformat_minor": 5
}
