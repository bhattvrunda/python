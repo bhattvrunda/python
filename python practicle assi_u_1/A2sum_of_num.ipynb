{
 "cells": [
  {
   "cell_type": "code",
   "execution_count": 1,
   "id": "debd1c76-efcc-4862-9f76-fbcbe3f62bcf",
   "metadata": {},
   "outputs": [
    {
     "name": "stdout",
     "output_type": "stream",
     "text": [
      "the sum of first 10 natural numbers is:55\n"
     ]
    }
   ],
   "source": [
    "#Assignment 2-find the sum of first n natural number\n",
    "def sum(n):\n",
    "    total=0\n",
    "    for i in range(1,n+1):\n",
    "        total +=i\n",
    "    return total\n",
    "n=10\n",
    "print(f\"the sum of first {n} natural numbers is:{sum(n)}\")\n",
    " \n",
    "            "
   ]
  },
  {
   "cell_type": "code",
   "execution_count": null,
   "id": "e002c9a6-bce4-4a0b-9d10-c7c89811efc2",
   "metadata": {},
   "outputs": [],
   "source": []
  }
 ],
 "metadata": {
  "kernelspec": {
   "display_name": "Python 3 (ipykernel)",
   "language": "python",
   "name": "python3"
  },
  "language_info": {
   "codemirror_mode": {
    "name": "ipython",
    "version": 3
   },
   "file_extension": ".py",
   "mimetype": "text/x-python",
   "name": "python",
   "nbconvert_exporter": "python",
   "pygments_lexer": "ipython3",
   "version": "3.11.4"
  }
 },
 "nbformat": 4,
 "nbformat_minor": 5
}
