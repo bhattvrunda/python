{
 "cells": [
  {
   "cell_type": "code",
   "execution_count": 2,
   "id": "359bc8a9-4668-4469-9c67-9f6eb3181ed7",
   "metadata": {},
   "outputs": [
    {
     "name": "stdin",
     "output_type": "stream",
     "text": [
      "Enter any number: 34\n"
     ]
    },
    {
     "name": "stdout",
     "output_type": "stream",
     "text": [
      "It is not prime:\n"
     ]
    }
   ],
   "source": [
    "#Assignment 11-primality testing:Given a positive integer,check if the number is prime or not.\n",
    "num=int(input(\"Enter any number:\"))\n",
    "if num == 1:\n",
    "    print(\"It is not prime:\")\n",
    "if num>1:\n",
    "    for i in range(2,num):\n",
    "        if num % i==0:\n",
    "            print(\"It is not prime:\")\n",
    "            break\n",
    "    else:\n",
    "        print(\"It is prime\")#67 is prime"
   ]
  },
  {
   "cell_type": "code",
   "execution_count": null,
   "id": "dc7cc1cf-b33f-4b9c-bd17-e5a7b9c04492",
   "metadata": {},
   "outputs": [],
   "source": []
  }
 ],
 "metadata": {
  "kernelspec": {
   "display_name": "Python 3 (ipykernel)",
   "language": "python",
   "name": "python3"
  },
  "language_info": {
   "codemirror_mode": {
    "name": "ipython",
    "version": 3
   },
   "file_extension": ".py",
   "mimetype": "text/x-python",
   "name": "python",
   "nbconvert_exporter": "python",
   "pygments_lexer": "ipython3",
   "version": "3.11.4"
  }
 },
 "nbformat": 4,
 "nbformat_minor": 5
}
