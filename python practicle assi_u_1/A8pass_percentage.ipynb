{
 "cells": [
  {
   "cell_type": "code",
   "execution_count": null,
   "id": "ed53e284-34c7-43a2-8d2f-d34f5d6fbee8",
   "metadata": {},
   "outputs": [],
   "source": [
    "#Assignment 8-Find out pass percentage of a class.A teacher is entering the marks of students.\n",
    "#A student passes a course if the marks are at lest 40 (out of 100).The teacher wants to know the percentage of student passed.\n",
    "nu_of_student=int(input(\"Enter number of student:\"))\n",
    "i=0\n",
    "nu_of_pass=0\n",
    "while i<nu_of_student:\n",
    "    marks=int(input(\"Enter the marks:\"));\n",
    "    if marks >= 40:\n",
    "        nu_of_pass=nu_of_pass+1\n",
    "    i=i+1\n",
    "    j=(nu_of_pass*100/nu_of_student)\n",
    "    print(j)"
   ]
  }
 ],
 "metadata": {
  "kernelspec": {
   "display_name": "Python 3 (ipykernel)",
   "language": "python",
   "name": "python3"
  },
  "language_info": {
   "codemirror_mode": {
    "name": "ipython",
    "version": 3
   },
   "file_extension": ".py",
   "mimetype": "text/x-python",
   "name": "python",
   "nbconvert_exporter": "python",
   "pygments_lexer": "ipython3",
   "version": "3.11.4"
  }
 },
 "nbformat": 4,
 "nbformat_minor": 5
}
