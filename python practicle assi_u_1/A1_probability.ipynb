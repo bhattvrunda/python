{
 "cells": [
  {
   "cell_type": "code",
   "execution_count": null,
   "id": "6ace40be-18a9-434e-b251-9de362aceb34",
   "metadata": {},
   "outputs": [],
   "source": [
    "#Assignment 1-A card is drawn at random from a deck of well shuffled cards.Find the probability of it being neither a king nor a spade.\n",
    "\n",
    "total_cards=52\n",
    "king=4\n",
    "spades=13\n",
    "king_of_spade=1\n",
    "res=total_cards-(king+spades-king_of_spade)\n",
    "#neither a king nor a spades\n",
    "final_probability = res / total_cards\n",
    "print(final_probability)"
   ]
  }
 ],
 "metadata": {
  "kernelspec": {
   "display_name": "Python 3 (ipykernel)",
   "language": "python",
   "name": "python3"
  },
  "language_info": {
   "codemirror_mode": {
    "name": "ipython",
    "version": 3
   },
   "file_extension": ".py",
   "mimetype": "text/x-python",
   "name": "python",
   "nbconvert_exporter": "python",
   "pygments_lexer": "ipython3",
   "version": "3.11.4"
  }
 },
 "nbformat": 4,
 "nbformat_minor": 5
}
